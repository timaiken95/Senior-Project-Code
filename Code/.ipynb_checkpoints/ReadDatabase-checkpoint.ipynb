{
 "cells": [
  {
   "cell_type": "code",
   "execution_count": null,
   "metadata": {
    "collapsed": false
   },
   "outputs": [],
   "source": [
    "import numpy as np\n",
    "from scipy.misc import imread\n",
    "from scipy.misc import imresize\n",
    "import numpy.matlib\n",
    "import scipy.io as sio\n",
    "import os\n",
    "import cv2\n",
    "import matplotlib.pyplot as plt\n",
    "import dlib\n",
    "import requests\n",
    "from PIL import Image\n",
    "from imutils import face_utils\n",
    "import matplotlib.path as mpltPath\n",
    "import csv\n",
    "from concurrent.futures import ThreadPoolExecutor, wait, as_completed\n",
    "import threading\n",
    "\n",
    "from testLinearRadial import *\n",
    "from processMTData import *\n",
    "from printclass import *\n",
    "from cnnClassifier import *\n",
    "from comparisonClassifiers import *"
   ]
  },
  {
   "cell_type": "markdown",
   "metadata": {},
   "source": [
    "http://maths.dur.ac.uk/~dma6kp/pdf/face_recognition/PCA/Togneri2010LinearRegressionFaceRecognition.pdf\n"
   ]
  },
  {
   "cell_type": "markdown",
   "metadata": {},
   "source": [
    "http://scikit-learn.org/stable/auto_examples/svm/plot_rbf_parameters.html"
   ]
  },
  {
   "cell_type": "code",
   "execution_count": null,
   "metadata": {
    "collapsed": false,
    "scrolled": true
   },
   "outputs": [],
   "source": [
    "testAllCNNs()"
   ]
  },
  {
   "cell_type": "code",
   "execution_count": null,
   "metadata": {
    "collapsed": false,
    "scrolled": true
   },
   "outputs": [],
   "source": [
    "testLinearRadial()"
   ]
  },
  {
   "cell_type": "code",
   "execution_count": null,
   "metadata": {
    "collapsed": true
   },
   "outputs": [],
   "source": [
    "fullpathprocessed = '/Users/clmeiste/TimAikenDocs/SeniorProject/Database/Processed/featurevectors/'\n",
    "fullpathSeperate = '/Users/clmeiste/TimAikenDocs/SeniorProject/Classifiers/Seperate/'\n",
    "    \n",
    "eyesBad = fullpathprocessed + 'eyesBad.bin'\n",
    "eyesOK = fullpathprocessed + 'eyesOK.bin'\n",
    "eyesSpecial = fullpathSeperate + 'eyesSpecialRBF.xml'\n",
    "\n",
    "trainSVMEyes(eyesBad, eyesOK, eyesSpecial)\n",
    "\n"
   ]
  }
 ],
 "metadata": {
  "kernelspec": {
   "display_name": "Python 2",
   "language": "python",
   "name": "python2"
  },
  "language_info": {
   "codemirror_mode": {
    "name": "ipython",
    "version": 2
   },
   "file_extension": ".py",
   "mimetype": "text/x-python",
   "name": "python",
   "nbconvert_exporter": "python",
   "pygments_lexer": "ipython2",
   "version": "2.7.13"
  }
 },
 "nbformat": 4,
 "nbformat_minor": 2
}
